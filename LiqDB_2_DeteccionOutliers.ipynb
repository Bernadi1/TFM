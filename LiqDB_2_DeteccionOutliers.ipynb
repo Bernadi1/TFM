{
 "cells": [
  {
   "cell_type": "code",
   "execution_count": 1,
   "metadata": {
    "id": "0T6kkgz2bac9"
   },
   "outputs": [],
   "source": [
    "import pandas as pd\n",
    "import numpy as np\n",
    "import os\n",
    "\n",
    "import matplotlib.pyplot as plt\n",
    "\n",
    "from sklearn import preprocessing\n",
    "import sklearn.metrics\n",
    "from sklearn.neighbors import kneighbors_graph\n",
    "from sklearn.cluster import DBSCAN\n",
    "from sklearn.ensemble import IsolationForest"
   ]
  },
  {
   "cell_type": "code",
   "execution_count": 2,
   "metadata": {
    "id": "Hmd6JB44bjrs"
   },
   "outputs": [],
   "source": [
    "ruta = '/content/drive/MyDrive/TFM/TFM/LiqDB/Data/LiqDBDataSet.txt'\n",
    "dataset = pd.read_csv(ruta, sep=\"\\t\")"
   ]
  },
  {
   "cell_type": "markdown",
   "metadata": {
    "id": "gRYnyYNbh986"
   },
   "source": [
    "# Buscamos outliers con el algoritmo DBscan"
   ]
  },
  {
   "cell_type": "code",
   "execution_count": 3,
   "metadata": {
    "id": "zpkyelJNiUeA"
   },
   "outputs": [],
   "source": [
    "# Normalizamos las características dentro del rango [0,1]\n",
    "min_max_scaler = preprocessing.MinMaxScaler()\n",
    "\n",
    "columnas = dataset.columns.tolist()\n",
    "columnas.remove(columnas[0])\n",
    "\n",
    "features_norm = min_max_scaler.fit_transform(dataset[columnas])\n",
    "\n",
    "# Calculamos la matriz de distancias euclidianas entre todas las muestras\n",
    "dist = sklearn.metrics.DistanceMetric.get_metric('euclidean')\n",
    "matdist = dist.pairwise(features_norm)"
   ]
  },
  {
   "cell_type": "code",
   "execution_count": 4,
   "metadata": {
    "colab": {
     "base_uri": "https://localhost:8080/",
     "height": 449
    },
    "id": "ZN8NEvFLW00S",
    "outputId": "e2bc39d3-8d15-47f6-9b62-2197713c021f"
   },
   "outputs": [
    {
     "data": {
      "image/png": "[encoded data removed]",
      "text/plain": [
       "<Figure size 640x480 with 1 Axes>"
      ]
     },
     "metadata": {},
     "output_type": "display_data"
    }
   ],
   "source": [
    "## DBSCAN\n",
    "# Creamos matriz de vecinos más cercanos\n",
    "minPts = 1\n",
    "A = kneighbors_graph(features_norm, minPts, include_self=False)\n",
    "Ar = A.toarray()\n",
    "\n",
    "# Se itera sobre la lista de vecinos más cercanos y buscamos su distancia\n",
    "seq = []\n",
    "for i,s in enumerate(features_norm):\n",
    "    for j in range(len(features_norm)):\n",
    "        if Ar[i][j] != 0:\n",
    "            seq.append(matdist[i][j])\n",
    "\n",
    "# Ordenamos la lista de distancias\n",
    "seq.sort()\n",
    "\n",
    "# Enseñamos la lista\n",
    "fig = plt.figure()\n",
    "ax = fig.gca()\n",
    "\n",
    "plt.plot(seq)\n",
    "plt.xlabel('Índices de la matriz de distancias')\n",
    "plt.ylabel('Distancia')\n",
    "\n",
    "plt.show()"
   ]
  },
  {
   "cell_type": "code",
   "execution_count": 5,
   "metadata": {
    "colab": {
     "base_uri": "https://localhost:8080/"
    },
    "id": "e5kCwXAxXmma",
    "outputId": "7cbf54a5-1e57-4677-d718-3b8787379ce7"
   },
   "outputs": [
    {
     "name": "stdout",
     "output_type": "stream",
     "text": [
      "Para los distintos epsilons, se muestra el número de clústers y outliers obtenidos con el método DBSCAN:\n",
      "\n",
      "  5.00, 1, 47\n",
      "  5.50, 1, 25\n",
      "  6.00, 1, 15\n",
      "  6.50, 1, 5\n",
      "  7.00, 1, 2\n",
      "  7.50, 1, 2\n",
      "  8.00, 1, 0\n"
     ]
    }
   ],
   "source": [
    "#Definimos número mínimo de puntos para el algoritmo DBScan\n",
    "minPts = 3\n",
    "\n",
    "print(\"Para los distintos epsilons, se muestra el número de clústers y outliers obtenidos con el método DBSCAN:\\n\")\n",
    "for eps in np.arange(5, 8.5, 0.5):\n",
    "  db = DBSCAN(eps, min_samples=minPts).fit(features_norm)\n",
    "  labels = db.labels_\n",
    "  n_clusters_ = len(set(labels)) - (1 if -1 in labels else 0)\n",
    "  n_outliers = list(labels).count(-1)\n",
    "  print (\"%6.2f, %d, %d\" % (eps, n_clusters_, n_outliers))"
   ]
  },
  {
   "cell_type": "code",
   "execution_count": 6,
   "metadata": {
    "colab": {
     "base_uri": "https://localhost:8080/"
    },
    "id": "e-RekYBKXn6q",
    "outputId": "8987ba36-c98c-419e-afee-ef63c3c880d9"
   },
   "outputs": [
    {
     "name": "stdout",
     "output_type": "stream",
     "text": [
      "Epsilon final: 6.5 \n",
      "Clusters finales: 1 \n",
      "Outliers finales: 0\n"
     ]
    }
   ],
   "source": [
    "eps= 6.5\n",
    "db = DBSCAN(eps, min_samples=minPts).fit(features_norm)\n",
    "labelsDBScan = db.labels_\n",
    "n_clusters_ = len(set(labels)) - (1 if -1 in labels else 0)\n",
    "n_outliers = list(labels).count(-1)\n",
    "print (\"Epsilon final:\",eps, \"\\nClusters finales:\",n_clusters_,\"\\nOutliers finales:\", n_outliers)"
   ]
  },
  {
   "cell_type": "code",
   "execution_count": 7,
   "metadata": {
    "id": "OTAmRdW7jkKD"
   },
   "outputs": [],
   "source": [
    "outlier_DBScan_indices = np.where(labelsDBScan == -1)[0].tolist()"
   ]
  },
  {
   "cell_type": "markdown",
   "metadata": {
    "id": "6qYrx82BUFOS"
   },
   "source": [
    "# Buscamos outliers con el algoritmo Isolation Forest\n"
   ]
  },
  {
   "cell_type": "code",
   "execution_count": 8,
   "metadata": {
    "id": "uUBLpGREUEto"
   },
   "outputs": [],
   "source": [
    "# Definimos y entrenamos el modelo Isolation Forest\n",
    "# Ponemos el número de estimadores a 100 (default) y el número de outliers a encontrar el 0.2% de la muestra.\n",
    "model = IsolationForest(n_estimators=100, contamination=0.006, random_state=42)\n",
    "\n",
    "model.fit(features_norm)\n",
    "\n",
    "outliers = model.predict(features_norm)"
   ]
  },
  {
   "cell_type": "code",
   "execution_count": 9,
   "metadata": {
    "id": "CPIS3mdkUvAi"
   },
   "outputs": [],
   "source": [
    "outlier_IsolationForest_indices = np.where(outliers == -1)[0].tolist()"
   ]
  },
  {
   "cell_type": "code",
   "execution_count": 10,
   "metadata": {
    "id": "z_-rqZS0V4NT"
   },
   "outputs": [],
   "source": [
    "outliers = outlier_DBScan_indices + outlier_IsolationForest_indices\n",
    "outliers = np.unique(outliers).tolist()"
   ]
  },
  {
   "cell_type": "code",
   "execution_count": 11,
   "metadata": {
    "colab": {
     "base_uri": "https://localhost:8080/"
    },
    "id": "EvL_Z217R7LB",
    "outputId": "850fca30-5f40-4a9c-892b-0bd624b95ec5"
   },
   "outputs": [
    {
     "name": "stdout",
     "output_type": "stream",
     "text": [
      "[327, 425, 435, 452, 476]\n",
      "[395, 421, 435]\n",
      "[327, 395, 421, 425, 435, 452, 476]\n"
     ]
    }
   ],
   "source": [
    "print(outlier_DBScan_indices)\n",
    "print(outlier_IsolationForest_indices)\n",
    "print(outliers)"
   ]
  },
  {
   "cell_type": "code",
   "execution_count": 12,
   "metadata": {
    "id": "lVreZ9N_X5ZC"
   },
   "outputs": [],
   "source": [
    "dataset = dataset.drop(outliers).reset_index(drop=True)"
   ]
  },
  {
   "cell_type": "code",
   "execution_count": 13,
   "metadata": {
    "id": "St0xWwGkXXlZ"
   },
   "outputs": [],
   "source": [
    "# Guardamos el dataset final obtenido sin outliers.\n",
    "ruta = '/content/drive/MyDrive/TFM/TFM/LiqDB/Data/'\n",
    "dataset.to_csv(ruta + 'LiqDBDataSetSinOutliers.csv', sep='\\t', index=False)"
   ]
  }
 ],
 "metadata": {
  "colab": {
   "provenance": []
  },
  "kernelspec": {
   "display_name": "Python 3 (ipykernel)",
   "language": "python",
   "name": "python3"
  },
  "language_info": {
   "codemirror_mode": {
    "name": "ipython",
    "version": 3
   },
   "file_extension": ".py",
   "mimetype": "text/x-python",
   "name": "python",
   "nbconvert_exporter": "python",
   "pygments_lexer": "ipython3",
   "version": "3.10.7"
  }
 },
 "nbformat": 4,
 "nbformat_minor": 1
}
