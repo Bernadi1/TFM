{
 "cells": [
  {
   "cell_type": "code",
   "execution_count": 1,
   "metadata": {
    "id": "ZEA8hMYnbKdR"
   },
   "outputs": [],
   "source": [
    "import pandas as pd\n",
    "import numpy as np"
   ]
  },
  {
   "cell_type": "code",
   "execution_count": 2,
   "metadata": {
    "id": "tZk76ORXi2-C"
   },
   "outputs": [],
   "source": [
    "metadatos = pd.read_csv('/content/drive/MyDrive/TFM/TFM/LiqDB/Data/metaData.txt', sep=\"\\t\")\n",
    "reads = pd.read_csv('/content/drive/MyDrive/TFM/TFM/LiqDB/Data/miRNA_RPMadjLib.txt', sep=\"\\t\")"
   ]
  },
  {
   "cell_type": "markdown",
   "metadata": {
    "id": "a3jo55tQ8apB"
   },
   "source": [
    "# Juntamos los datos en una misma tabla"
   ]
  },
  {
   "cell_type": "code",
   "execution_count": 3,
   "metadata": {
    "colab": {
     "base_uri": "https://localhost:8080/"
    },
    "id": "e1YXeowBAvsp",
    "outputId": "045c662a-4d1c-4e38-dc3f-a5cb2d8df84a"
   },
   "outputs": [
    {
     "name": "stdout",
     "output_type": "stream",
     "text": [
      "(500, 18)\n",
      "(500, 16)\n"
     ]
    }
   ],
   "source": [
    "# Buscamos duplicados\n",
    "metadatos_dedupped = metadatos.drop(['Experiment','id'], axis=1).drop_duplicates()\n",
    "\n",
    "# No hay duplicados\n",
    "print(metadatos.shape)\n",
    "print(metadatos_dedupped.shape)"
   ]
  },
  {
   "cell_type": "code",
   "execution_count": 4,
   "metadata": {
    "colab": {
     "base_uri": "https://localhost:8080/"
    },
    "id": "n9l0Eg5iA4UY",
    "outputId": "d0ed565a-078f-45e2-d5ce-4ed0376f893b"
   },
   "outputs": [
    {
     "name": "stdout",
     "output_type": "stream",
     "text": [
      "id             int64\n",
      "SRP           object\n",
      "PRJ           object\n",
      "Organism      object\n",
      "Sample        object\n",
      "Runs          object\n",
      "Instrument    object\n",
      "Release       object\n",
      "Sex           object\n",
      "Fluid         object\n",
      "Extraction    object\n",
      "Library       object\n",
      "Healthy       object\n",
      "Cancer        object\n",
      "Exosome         bool\n",
      "Desc          object\n",
      "Experiment    object\n",
      "Date          object\n",
      "dtype: object\n"
     ]
    }
   ],
   "source": [
    "print(metadatos.dtypes)"
   ]
  },
  {
   "cell_type": "code",
   "execution_count": 5,
   "metadata": {
    "id": "ghoeoGIcBF8A"
   },
   "outputs": [],
   "source": [
    "metadatos.drop(['id','SRP','PRJ','Sample','Runs','Library','Desc','Release','Organism','Date','Healthy','Extraction','Fluid','Instrument','Sex'], axis=1, inplace=True)"
   ]
  },
  {
   "cell_type": "code",
   "execution_count": 6,
   "metadata": {
    "id": "HRat7X4aC2Hu"
   },
   "outputs": [],
   "source": [
    "metadatos['Cancer']=metadatos['Cancer'].astype('bool')\n",
    "metadatos['Exosome']=metadatos['Exosome'].astype('bool')"
   ]
  },
  {
   "cell_type": "code",
   "execution_count": 7,
   "metadata": {
    "colab": {
     "base_uri": "https://localhost:8080/"
    },
    "id": "pcTH2Qc6DZBG",
    "outputId": "3770b221-6baf-4e5c-a291-7c899591a801"
   },
   "outputs": [
    {
     "name": "stdout",
     "output_type": "stream",
     "text": [
      "Cancer - 0.0%\n",
      "Exosome - 0.0%\n",
      "Experiment - 0.2%\n"
     ]
    }
   ],
   "source": [
    "for col in metadatos.columns:\n",
    "    pct_missing = np.mean(metadatos[col].isnull())\n",
    "    print('{} - {}%'.format(col, round(pct_missing*100,2)))"
   ]
  },
  {
   "cell_type": "code",
   "execution_count": 8,
   "metadata": {
    "id": "zYTinVAEKYEB"
   },
   "outputs": [],
   "source": [
    "metadatos = metadatos.dropna(subset=['Experiment']).reset_index(drop=True)"
   ]
  },
  {
   "cell_type": "code",
   "execution_count": 9,
   "metadata": {
    "id": "ZH39REtDLIQA"
   },
   "outputs": [],
   "source": [
    "# Juntamos las tablas de datos y metadatos\n",
    "reads=reads.transpose()\n",
    "reads = reads.reset_index()\n",
    "reads.columns = reads.iloc[0,:].tolist()\n",
    "reads.drop([0], axis=0, inplace=True)\n",
    "reads = reads.reset_index(drop=True)"
   ]
  },
  {
   "cell_type": "code",
   "execution_count": 10,
   "metadata": {
    "id": "6mM0ltt3RDGl"
   },
   "outputs": [],
   "source": [
    "metadatos=metadatos.rename(columns={ 'Experiment': 'name' })"
   ]
  },
  {
   "cell_type": "code",
   "execution_count": 11,
   "metadata": {
    "id": "M8Xove1OREe1"
   },
   "outputs": [],
   "source": [
    "dataset = pd.merge(reads, metadatos, how='right', on='name')"
   ]
  },
  {
   "cell_type": "code",
   "execution_count": 12,
   "metadata": {
    "id": "eRGA6Ka_Z_Qn"
   },
   "outputs": [],
   "source": [
    "ruta = '/content/drive/MyDrive/TFM/TFM/LiqDB/Data/LiqDBDataSet.txt'\n",
    "dataset.to_csv(ruta, sep='\\t', index=False)"
   ]
  }
 ],
 "metadata": {
  "colab": {
   "provenance": []
  },
  "kernelspec": {
   "display_name": "Python 3 (ipykernel)",
   "language": "python",
   "name": "python3"
  },
  "language_info": {
   "codemirror_mode": {
    "name": "ipython",
    "version": 3
   },
   "file_extension": ".py",
   "mimetype": "text/x-python",
   "name": "python",
   "nbconvert_exporter": "python",
   "pygments_lexer": "ipython3",
   "version": "3.10.7"
  }
 },
 "nbformat": 4,
 "nbformat_minor": 1
}
