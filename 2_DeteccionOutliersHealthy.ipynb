{
 "cells": [
  {
   "cell_type": "code",
   "execution_count": 1,
   "metadata": {
    "id": "cy7W2QN59sFC"
   },
   "outputs": [],
   "source": [
    "import pandas as pd\n",
    "import numpy as np\n",
    "import os\n",
    "\n",
    "import matplotlib.pyplot as plt\n",
    "\n",
    "from sklearn import preprocessing\n",
    "import sklearn.metrics\n",
    "from sklearn.neighbors import kneighbors_graph\n",
    "from sklearn.cluster import DBSCAN\n",
    "from sklearn.ensemble import IsolationForest\n",
    "#from pyod.models.knn import KNN"
   ]
  },
  {
   "cell_type": "markdown",
   "metadata": {
    "id": "rmFkt9rp9189"
   },
   "source": [
    "---\n",
    "---\n",
    "Leemos datos"
   ]
  },
  {
   "cell_type": "code",
   "execution_count": 2,
   "metadata": {
    "id": "nQdC6LFl94r0"
   },
   "outputs": [],
   "source": [
    "ruta = '/content/drive/MyDrive/TFM/TFM/Processed_Data/DataSet.csv'\n",
    "dataset = pd.read_csv(ruta, sep=\"\\t\")"
   ]
  },
  {
   "cell_type": "markdown",
   "metadata": {
    "id": "9yGEUqU8Z1Xa"
   },
   "source": [
    "# Buscamos outliers con el algoritmo DBscan"
   ]
  },
  {
   "cell_type": "code",
   "execution_count": 3,
   "metadata": {
    "id": "x1a-ueUwZzHN"
   },
   "outputs": [],
   "source": [
    "# Normalizamos las características dentro del rango [0,1]\n",
    "min_max_scaler = preprocessing.MinMaxScaler()\n",
    "\n",
    "columnas = dataset.columns.tolist()\n",
    "columnas.remove(columnas[0])\n",
    "\n",
    "features_norm = min_max_scaler.fit_transform(dataset[columnas])\n",
    "\n",
    "# Calculamos la matriz de distancias euclidianas entre todas las muestras\n",
    "dist = sklearn.metrics.DistanceMetric.get_metric('euclidean')\n",
    "matdist = dist.pairwise(features_norm)"
   ]
  },
  {
   "cell_type": "code",
   "execution_count": 4,
   "metadata": {
    "colab": {
     "base_uri": "https://localhost:8080/",
     "height": 449
    },
    "id": "ZN8NEvFLW00S",
    "outputId": "210745ca-2960-4597-bb65-25e1a74217a4"
   },
   "outputs": [
    {
     "data": {
      "image/png": "[encoded data removed]",
      "text/plain": [
       "<Figure size 640x480 with 1 Axes>"
      ]
     },
     "metadata": {},
     "output_type": "display_data"
    }
   ],
   "source": [
    "## DBSCAN\n",
    "# Creamos matriz de vecinos más cercanos\n",
    "minPts = 1\n",
    "A = kneighbors_graph(features_norm, minPts, include_self=False)\n",
    "Ar = A.toarray()\n",
    "\n",
    "# Se itera sobre la lista de vecinos más cercanos y buscamos su distancia\n",
    "seq = []\n",
    "for i,s in enumerate(features_norm):\n",
    "    for j in range(len(features_norm)):\n",
    "        if Ar[i][j] != 0:\n",
    "            seq.append(matdist[i][j])\n",
    "\n",
    "# Ordenamos la lista de distancias\n",
    "seq.sort()\n",
    "\n",
    "# Enseñamos la lista\n",
    "fig = plt.figure()\n",
    "ax = fig.gca()\n",
    "\n",
    "plt.plot(seq)\n",
    "plt.xlabel('Índices de la matriz de distancias')\n",
    "plt.ylabel('Distancia')\n",
    "\n",
    "plt.show()"
   ]
  },
  {
   "cell_type": "code",
   "execution_count": 5,
   "metadata": {
    "colab": {
     "base_uri": "https://localhost:8080/"
    },
    "id": "e5kCwXAxXmma",
    "outputId": "a5344f7f-9995-4574-f04d-6e7a96547e0e"
   },
   "outputs": [
    {
     "name": "stdout",
     "output_type": "stream",
     "text": [
      "Para los distintos epsilons, se muestra el número de clústers y outliers obtenidos con el método DBSCAN:\n",
      "\n",
      "  5.00, 3, 68\n",
      "  5.50, 2, 47\n",
      "  6.00, 1, 28\n",
      "  6.50, 2, 12\n",
      "  7.00, 1, 3\n",
      "  7.50, 1, 1\n",
      "  8.00, 1, 0\n"
     ]
    }
   ],
   "source": [
    "#Definimos número mínimo de puntos para el algoritmo DBScan\n",
    "minPts = 3\n",
    "\n",
    "print(\"Para los distintos epsilons, se muestra el número de clústers y outliers obtenidos con el método DBSCAN:\\n\")\n",
    "for eps in np.arange(5, 8.5, 0.5):\n",
    "  db = DBSCAN(eps, min_samples=minPts).fit(features_norm)\n",
    "  labels = db.labels_\n",
    "  n_clusters_ = len(set(labels)) - (1 if -1 in labels else 0)\n",
    "  n_outliers = list(labels).count(-1)\n",
    "  print (\"%6.2f, %d, %d\" % (eps, n_clusters_, n_outliers))"
   ]
  },
  {
   "cell_type": "code",
   "execution_count": 6,
   "metadata": {
    "colab": {
     "base_uri": "https://localhost:8080/"
    },
    "id": "e-RekYBKXn6q",
    "outputId": "ca739d21-1cf5-4106-bf51-12be85af2753"
   },
   "outputs": [
    {
     "name": "stdout",
     "output_type": "stream",
     "text": [
      "Epsilon final: 6.5 \n",
      "Clusters finales: 1 \n",
      "Outliers finales: 0\n"
     ]
    }
   ],
   "source": [
    "eps= 6.5\n",
    "db = DBSCAN(eps, min_samples=minPts).fit(features_norm)\n",
    "labelsDBScan = db.labels_\n",
    "n_clusters_ = len(set(labels)) - (1 if -1 in labels else 0)\n",
    "n_outliers = list(labels).count(-1)\n",
    "print (\"Epsilon final:\",eps, \"\\nClusters finales:\",n_clusters_,\"\\nOutliers finales:\", n_outliers)"
   ]
  },
  {
   "cell_type": "code",
   "execution_count": 7,
   "metadata": {
    "id": "OTAmRdW7jkKD"
   },
   "outputs": [],
   "source": [
    "outlier_DBScan_indices = np.where(labelsDBScan == -1)[0].tolist()"
   ]
  },
  {
   "cell_type": "markdown",
   "metadata": {
    "id": "6qYrx82BUFOS"
   },
   "source": [
    "# Buscamos outliers con el algoritmo Isolation Forest\n"
   ]
  },
  {
   "cell_type": "code",
   "execution_count": 8,
   "metadata": {
    "id": "uUBLpGREUEto"
   },
   "outputs": [],
   "source": [
    "# Definimos y entrenamos el modelo Isolation Forest\n",
    "# Ponemos el número de estimadores a 100 (default) y el número de outliers a encontrar el 0.2% de la muestra.\n",
    "model = IsolationForest(n_estimators=100, contamination=0.002, random_state=42)\n",
    "\n",
    "model.fit(features_norm)\n",
    "\n",
    "outliers = model.predict(features_norm)"
   ]
  },
  {
   "cell_type": "code",
   "execution_count": 9,
   "metadata": {
    "id": "CPIS3mdkUvAi"
   },
   "outputs": [],
   "source": [
    "outlier_IsolationForest_indices = np.where(outliers == -1)[0].tolist()"
   ]
  },
  {
   "cell_type": "code",
   "execution_count": 10,
   "metadata": {
    "id": "z_-rqZS0V4NT"
   },
   "outputs": [],
   "source": [
    "outliers = outlier_DBScan_indices + outlier_IsolationForest_indices\n",
    "outliers = np.unique(outliers).tolist()"
   ]
  },
  {
   "cell_type": "code",
   "execution_count": 11,
   "metadata": {
    "colab": {
     "base_uri": "https://localhost:8080/"
    },
    "id": "xcsMVgniRz3q",
    "outputId": "25c04111-0017-47e7-ad21-97e2f02cb9af"
   },
   "outputs": [
    {
     "name": "stdout",
     "output_type": "stream",
     "text": [
      "[493, 2618, 2620, 2621, 2623, 2624, 2635, 2637, 2640, 2641, 4485, 4526]\n",
      "[2619, 2624, 2625, 2634, 2636, 2637, 3459, 3460, 3462, 3463]\n",
      "[493, 2618, 2619, 2620, 2621, 2623, 2624, 2625, 2634, 2635, 2636, 2637, 2640, 2641, 3459, 3460, 3462, 3463, 4485, 4526]\n"
     ]
    }
   ],
   "source": [
    "print(outlier_DBScan_indices)\n",
    "print(outlier_IsolationForest_indices)\n",
    "print(outliers)"
   ]
  },
  {
   "cell_type": "code",
   "execution_count": 12,
   "metadata": {
    "id": "lVreZ9N_X5ZC"
   },
   "outputs": [],
   "source": [
    "dataset = dataset.drop(outliers).reset_index(drop=True)"
   ]
  },
  {
   "cell_type": "code",
   "execution_count": 13,
   "metadata": {
    "id": "St0xWwGkXXlZ"
   },
   "outputs": [],
   "source": [
    "# Guardamos el dataset final obtenido sin outliers.\n",
    "ruta = '/content/drive/MyDrive/TFM/TFM/Processed_Data/'\n",
    "dataset.to_csv(ruta + 'DataSetSinOutliers.csv', sep='\\t', index=False)"
   ]
  }
 ],
 "metadata": {
  "colab": {
   "provenance": []
  },
  "kernelspec": {
   "display_name": "Python 3 (ipykernel)",
   "language": "python",
   "name": "python3"
  },
  "language_info": {
   "codemirror_mode": {
    "name": "ipython",
    "version": 3
   },
   "file_extension": ".py",
   "mimetype": "text/x-python",
   "name": "python",
   "nbconvert_exporter": "python",
   "pygments_lexer": "ipython3",
   "version": "3.10.7"
  }
 },
 "nbformat": 4,
 "nbformat_minor": 1
}
