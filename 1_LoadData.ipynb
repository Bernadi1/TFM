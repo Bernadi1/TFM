{
 "cells": [
  {
   "cell_type": "code",
   "execution_count": 1,
   "metadata": {
    "id": "TmTVBBNXmrLI"
   },
   "outputs": [],
   "source": [
    "import pandas as pd\n",
    "import numpy as np\n",
    "import os"
   ]
  },
  {
   "cell_type": "markdown",
   "metadata": {
    "id": "vcTDeArmqNRh"
   },
   "source": [
    "---\n",
    "---\n",
    "Leemos las extracciones y las juntamos en un solo dataframe."
   ]
  },
  {
   "cell_type": "code",
   "execution_count": 2,
   "metadata": {
    "colab": {
     "base_uri": "https://localhost:8080/"
    },
    "id": "_omcaJ8zDZKi",
    "outputId": "7dfd17d8-6542-4405-c41f-f45ba164ecb8"
   },
   "outputs": [
    {
     "name": "stderr",
     "output_type": "stream",
     "text": [
      "<ipython-input-2-5ba7e8d7e30d>:5: DtypeWarning: Columns (5) have mixed types. Specify dtype option on import or set low_memory=False.\n",
      "  temp = pd.read_csv(ruta, sep=\"\\t\")\n",
      "<ipython-input-2-5ba7e8d7e30d>:5: DtypeWarning: Columns (5) have mixed types. Specify dtype option on import or set low_memory=False.\n",
      "  temp = pd.read_csv(ruta, sep=\"\\t\")\n",
      "<ipython-input-2-5ba7e8d7e30d>:5: DtypeWarning: Columns (5,11) have mixed types. Specify dtype option on import or set low_memory=False.\n",
      "  temp = pd.read_csv(ruta, sep=\"\\t\")\n",
      "<ipython-input-2-5ba7e8d7e30d>:5: DtypeWarning: Columns (5) have mixed types. Specify dtype option on import or set low_memory=False.\n",
      "  temp = pd.read_csv(ruta, sep=\"\\t\")\n",
      "<ipython-input-2-5ba7e8d7e30d>:5: DtypeWarning: Columns (5) have mixed types. Specify dtype option on import or set low_memory=False.\n",
      "  temp = pd.read_csv(ruta, sep=\"\\t\")\n"
     ]
    }
   ],
   "source": [
    "extraccion = pd.DataFrame()\n",
    "\n",
    "for i in os.listdir('/content/drive/MyDrive/TFM/TFM/Data/'):\n",
    "  ruta = '/content/drive/MyDrive/TFM/TFM/Data/' + i\n",
    "  temp = pd.read_csv(ruta, sep=\"\\t\")\n",
    "  extraccion = pd.concat([extraccion, temp], ignore_index=True)"
   ]
  },
  {
   "cell_type": "code",
   "execution_count": 3,
   "metadata": {
    "colab": {
     "base_uri": "https://localhost:8080/"
    },
    "id": "Qd3XW8ihoHbJ",
    "outputId": "a26026a2-4a78-4048-ce10-4d34b8bf9e56"
   },
   "outputs": [
    {
     "name": "stdout",
     "output_type": "stream",
     "text": [
      "(5133, 2667)\n",
      "(5132, 2666)\n"
     ]
    }
   ],
   "source": [
    "# Quitamos duplicados\n",
    "extraccion.drop('S.No', axis=1, inplace = True)\n",
    "extraccion_dedupped = extraccion.drop('Sample_ID', axis=1).drop_duplicates()\n",
    "\n",
    "print(extraccion.shape)\n",
    "print(extraccion_dedupped.shape)"
   ]
  },
  {
   "cell_type": "code",
   "execution_count": 4,
   "metadata": {
    "id": "Iz-rWPbbpC_x"
   },
   "outputs": [],
   "source": [
    "extraccion_temp = extraccion.drop('Sample_ID', axis=1)\n",
    "duplicadas_sin_sample_id = extraccion_temp.duplicated()\n",
    "extraccion = extraccion[~duplicadas_sin_sample_id]"
   ]
  },
  {
   "cell_type": "code",
   "execution_count": 5,
   "metadata": {
    "colab": {
     "base_uri": "https://localhost:8080/"
    },
    "id": "dGoWNNXb_m4e",
    "outputId": "cc3477d3-6632-488e-af4e-0a838c016820"
   },
   "outputs": [
    {
     "name": "stdout",
     "output_type": "stream",
     "text": [
      "Sample_ID                     object\n",
      "Collection                    object\n",
      "Project_ID                    object\n",
      "Tissue_or_organ_of_origin     object\n",
      "Tissue_subregion              object\n",
      "Cell_Line                    float64\n",
      "Disease                       object\n",
      "Organism                      object\n",
      "Gender                        object\n",
      "Health_state                  object\n",
      "Tissue_definition             object\n",
      "dtype: object\n"
     ]
    }
   ],
   "source": [
    "print(extraccion.dtypes.head(11))"
   ]
  },
  {
   "cell_type": "code",
   "execution_count": 6,
   "metadata": {
    "colab": {
     "base_uri": "https://localhost:8080/"
    },
    "id": "Y1xx9a3Q_5Ic",
    "outputId": "6398517f-665e-4ed8-bb04-ba42f0d8de6e"
   },
   "outputs": [
    {
     "name": "stdout",
     "output_type": "stream",
     "text": [
      "Sample_ID - 0.0%\n",
      "Collection - 0.0%\n",
      "Project_ID - 0.0%\n",
      "Tissue_or_organ_of_origin - 0.0%\n",
      "Tissue_subregion - 95.46%\n",
      "Cell_Line - 100.0%\n",
      "Disease - 2.92%\n",
      "Organism - 0.0%\n",
      "Gender - 4.35%\n",
      "Health_state - 2.96%\n",
      "Tissue_definition - 9.04%\n"
     ]
    }
   ],
   "source": [
    "# Porcentajes de N/A\n",
    "cols = ['Sample_ID', 'Collection', 'Project_ID', 'Tissue_or_organ_of_origin',\n",
    "       'Tissue_subregion', 'Cell_Line', 'Disease', 'Organism', 'Gender',\n",
    "      'Health_state', 'Tissue_definition']\n",
    "for col in cols:\n",
    "    pct_missing = np.mean(extraccion[col].isnull())\n",
    "    print('{} - {}%'.format(col, round(pct_missing*100,2)))"
   ]
  },
  {
   "cell_type": "code",
   "execution_count": 7,
   "metadata": {
    "colab": {
     "base_uri": "https://localhost:8080/"
    },
    "id": "AqXnX7BhBwKr",
    "outputId": "583f403b-fed9-4fb9-ceb7-c1eb52b7d17e"
   },
   "outputs": [
    {
     "data": {
      "text/plain": [
       "Organism\n",
       "Homo sapiens    5132\n",
       "Name: count, dtype: int64"
      ]
     },
     "execution_count": 7,
     "metadata": {},
     "output_type": "execute_result"
    }
   ],
   "source": [
    "# Vemos que todas las muestras son de personas.\n",
    "extraccion['Organism'].value_counts(dropna=False)"
   ]
  },
  {
   "cell_type": "code",
   "execution_count": 8,
   "metadata": {
    "colab": {
     "base_uri": "https://localhost:8080/"
    },
    "id": "CbD35FiBodWL",
    "outputId": "827640fe-60cb-4f52-a3ad-2527d2f3ef14"
   },
   "outputs": [
    {
     "name": "stdout",
     "output_type": "stream",
     "text": [
      "Disease\n",
      "Adenocarcinoma                   1401\n",
      "Squamous cell carcinoma           888\n",
      "Papillary adenocarcinoma          445\n",
      "Acute myeloid leukemia            188\n",
      "Transitional cell carcinoma       168\n",
      "                                 ... \n",
      "Astrocytoma                         1\n",
      "Oligodendroglioma, anaplastic       1\n",
      "Myxoid leiomyosarcoma               1\n",
      "Spindle cell melanoma, type b       1\n",
      "Carcinoma, undifferentiated         1\n",
      "Name: count, Length: 103, dtype: int64\n"
     ]
    }
   ],
   "source": [
    "# Observamos los distintos tipos de enfermedades\n",
    "print(extraccion['Disease'].value_counts(dropna=False))"
   ]
  },
  {
   "cell_type": "code",
   "execution_count": 9,
   "metadata": {
    "id": "PG1_nAR8APSb"
   },
   "outputs": [],
   "source": [
    "# Eliminamos columnas que no queremos\n",
    "extraccion.drop(['Collection','Project_ID','Tissue_or_organ_of_origin','Tissue_subregion','Cell_Line','Organism','Gender','Tissue_definition'], axis=1, inplace=True)"
   ]
  },
  {
   "cell_type": "code",
   "execution_count": 10,
   "metadata": {
    "colab": {
     "base_uri": "https://localhost:8080/"
    },
    "id": "JhOIcvvSIVIM",
    "outputId": "7ec9a3f2-3615-4541-afd5-de9c1d0d9438"
   },
   "outputs": [
    {
     "name": "stdout",
     "output_type": "stream",
     "text": [
      "(5132, 2659)\n",
      "Health_state\n",
      "disease    4594\n",
      "healthy     386\n",
      "NaN         152\n",
      "Name: count, dtype: int64\n"
     ]
    }
   ],
   "source": [
    "print(extraccion.shape)\n",
    "print(extraccion['Health_state'].value_counts(dropna=False))"
   ]
  },
  {
   "cell_type": "code",
   "execution_count": 11,
   "metadata": {
    "id": "Ypun9CTECQhT"
   },
   "outputs": [],
   "source": [
    "extraccion = extraccion.dropna(subset=['Disease', 'Health_state']).reset_index(drop=True)"
   ]
  },
  {
   "cell_type": "code",
   "execution_count": 12,
   "metadata": {
    "id": "aqDRNyCrJFWh"
   },
   "outputs": [],
   "source": [
    "# Creamos dataset adenocarcinoma y guardamos los dos datasets.\n",
    "extraccion = extraccion.reset_index(drop=True)\n",
    "adenocarcinoma = []\n",
    "for i in range(len(extraccion)):\n",
    "  if 'adenocarcinoma' in extraccion['Disease'][i].lower() and extraccion['Health_state'][i] == 'disease':\n",
    "    adenocarcinoma.append(True)\n",
    "  else:\n",
    "    adenocarcinoma.append(False)\n",
    "\n",
    "extraccionadenocarcinoma = extraccion.copy()\n",
    "extraccionadenocarcinoma['Adenocarcinoma'] = adenocarcinoma\n",
    "extraccionadenocarcinoma.drop(['Disease','Health_state'], axis=1, inplace=True)"
   ]
  },
  {
   "cell_type": "code",
   "execution_count": 13,
   "metadata": {
    "id": "nHMk6XxSLopQ"
   },
   "outputs": [],
   "source": [
    "ruta = '/content/drive/MyDrive/TFM/TFM/Processed_Data/'\n",
    "extraccionadenocarcinoma.to_csv(ruta + 'DataSetAdenocarcinoma.csv', sep='\\t', index=False)"
   ]
  },
  {
   "cell_type": "code",
   "execution_count": 15,
   "metadata": {
    "id": "EonQy9WhMBv3"
   },
   "outputs": [],
   "source": [
    "extraccion = pd.get_dummies(extraccion, columns = ['Health_state'])\n",
    "extraccion.drop(['Disease','Health_state_healthy'], axis=1, inplace=True)"
   ]
  },
  {
   "cell_type": "code",
   "execution_count": 16,
   "metadata": {
    "id": "_76ScBIF8WQ2"
   },
   "outputs": [],
   "source": [
    "ruta = '/content/drive/MyDrive/TFM/TFM/Processed_Data/'\n",
    "extraccion.to_csv(ruta + 'DataSet.csv', sep='\\t', index=False)"
   ]
  }
 ],
 "metadata": {
  "colab": {
   "provenance": []
  },
  "kernelspec": {
   "display_name": "Python 3 (ipykernel)",
   "language": "python",
   "name": "python3"
  },
  "language_info": {
   "codemirror_mode": {
    "name": "ipython",
    "version": 3
   },
   "file_extension": ".py",
   "mimetype": "text/x-python",
   "name": "python",
   "nbconvert_exporter": "python",
   "pygments_lexer": "ipython3",
   "version": "3.10.7"
  }
 },
 "nbformat": 4,
 "nbformat_minor": 1
}
